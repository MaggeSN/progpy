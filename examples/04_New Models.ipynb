{
 "cells": [
  {
   "cell_type": "markdown",
   "metadata": {},
   "source": [
    "# 4. Defining new Physics-Based Prognostic Models"
   ]
  },
  {
   "cell_type": "markdown",
   "metadata": {},
   "source": [
    "All of the past sections describe how to use an existing model. In this section we will describe how to create a new model. This section specifically describes creating a new physics-based model. For training and creating data-driven models see 5. Data-driven Models."
   ]
  },
  {
   "cell_type": "markdown",
   "metadata": {},
   "source": [
    "## Linear Models"
   ]
  },
  {
   "cell_type": "markdown",
   "metadata": {},
   "source": [
    "The easiest model to build is a linear model. Linear models are defined as a linear time series, which can be defined by the following equations:\n",
    "\n",
    "\n",
    "\n",
    "**The State Equation**:\n",
    "$$\n",
    "\\frac{dx}{dt} = Ax + Bu + E\n",
    "$$\n",
    "\n",
    "**The Output Equation**:\n",
    "$$\n",
    "z = Cx + D\n",
    "$$\n",
    "\n",
    "**The Event State Equation**:\n",
    "$$\n",
    "es = Fx + G\n",
    "$$\n",
    "\n",
    "$x$ is `state`, $u$ is `input`, $z$ is `output`, and $es$ is `event state`\n",
    "\n",
    "Linear Models are defined by creating a new model class that inherits from progpy's LinearModel class and defines the following properties:\n",
    "* $A$: 2-D np.array[float], dimensions: n_states x n_states. <font color = 'teal'>The state transition matrix. It dictates how the current state affects the change in state dx/dt.</font>\n",
    "* $B$: 2-D np.array[float], optional (zeros by default), dimensions: n_states x n_inputs. <font color = 'teal'>The input matrix. It dictates how the input affects the change in state dx/dt.</font>\n",
    "* $C$: 2-D np.array[float], dimensions: n_outputs x n_states. The output matrix. <font color = 'teal'>It determines how the state variables contribute to the output.</font>\n",
    "* $D$: 1-D np.array[float], optional (zeros by default), dimensions: n_outputs x 1. <font color = 'teal'>A constant term that can represent any biases or offsets in the output.</font>\n",
    "* $E$: 1-D np.array[float], optional (zeros by default), dimensions: n_states x 1. <font color = 'teal'>A constant term, representing any external effects that are not captured by the state and input.</font>\n",
    "* $F$: 2-D np.array[float], dimensions: n_es x n_states. <font color = 'teal'>The event state matrix, dictating how state variables contribute to the event state.</font>\n",
    "* $G$: 1-D np.array[float], optional (zeros by default), dimensions: n_es x 1. <font color = 'teal'>A constant term that can represent any biases or offsets in the event state.</font>\n",
    "* __inputs__:  list[str] - `input` keys\n",
    "* __states__:  list[str] - `state` keys\n",
    "* __outputs__: list[str] - `output` keys\n",
    "* __events__:  list[str] - `event` keys"
   ]
  },
  {
   "cell_type": "markdown",
   "metadata": {},
   "source": [
    "We will now utilize our LinearModel to model the classical physics problem throwing an object into the air. This is a common example model, the non-linear version of which (`progpy.examples.ThrownObject`) has been used frequently throughout the examples. This version of ThrownObject will behave nearly identically to the non-linear ThrownObject, except it will not have the non-linear effects of air resistance.\n",
    "\n",
    "We can create a subclass of LinearModel which will be used to simulate an object thrown, which we will call the ThrownObject Class.\n",
    "\n",
    "First, some definitions for our Model:\n",
    "\n",
    "**Events**: (2)\n",
    "* `falling: The object is falling`\n",
    "* `impact: The object has hit the ground`\n",
    "\n",
    "**Inputs/Loading**: (0)\n",
    "* `None`\n",
    "\n",
    "**States**: (2)\n",
    "* `x: Position in space (m)`\n",
    "* `v: Velocity in space (m/s)`\n",
    "\n",
    "**Outputs/Measurements**: (1)\n",
    "* `x: Position in space (m)`"
   ]
  },
  {
   "cell_type": "markdown",
   "metadata": {},
   "source": [
    "Now, for our keyword arguments:\n",
    "\n",
    "* <font color = green>__thrower_height : Optional, float__</font>\n",
    "  * Height of the thrower (m). Default is 1.83 m\n",
    "* <font color = green>__throwing_speed : Optional, float__</font>\n",
    "  * Speed at which the ball is thrown (m/s). Default is 40 m/s"
   ]
  },
  {
   "cell_type": "markdown",
   "metadata": {},
   "source": [
    "With our definitions, we can now create the ThrownObject Model.\n",
    "\n",
    "First, we need to import the necessary packages."
   ]
  },
  {
   "cell_type": "code",
   "execution_count": null,
   "metadata": {},
   "outputs": [],
   "source": [
    "import numpy as np\n",
    "from progpy import LinearModel"
   ]
  },
  {
   "cell_type": "markdown",
   "metadata": {},
   "source": [
    "Now we'll define some features of a ThrownObject LinearModel. Recall that all LinearModels follow a set of core equations and require some specific properties (see above). In the next step, we'll define our inputs, states, outputs, and events, along with the $A$, $C$, $E$, and $F$ values.\n",
    "\n",
    "First, let's consider state transition. For an object thrown into the air without air resistance, velocity would decrease literally by __-9.81__ \n",
    "$\\dfrac{m}{s^2}$ due to the effect of gravity, as described below:\n",
    "\n",
    " $$\\frac{dv}{dt} = -9.81$$\n",
    "\n",
    " Position change is defined by velocity (v), as described below:\n",
    " \n",
    " $$\\frac{dx}{dt} = v$$\n",
    "\n",
    " Note: For the above equation x is position not state. Combining these equations with the model $\\frac{dx}{dt}$ equation defined above yields the A and E matrix defined below. Note that there is no B defined because this model does not have any inputs."
   ]
  },
  {
   "cell_type": "code",
   "execution_count": null,
   "metadata": {},
   "outputs": [],
   "source": [
    "class ThrownObject(LinearModel):\n",
    "    events = ['impact']\n",
    "    inputs = []  \n",
    "    states = ['x', 'v']\n",
    "    outputs = ['x']\n",
    "    \n",
    "    A = np.array([[0, 1], [0, 0]])\n",
    "    C = np.array([[1, 0]])\n",
    "    E = np.array([[0], [-9.81]])\n",
    "    F = None"
   ]
  },
  {
   "cell_type": "markdown",
   "metadata": {},
   "source": [
    "Note that we defined our `A`, `C`, `E`, and `F` values to fit the dimensions that were stated at the beginning of the notebook! Since the parameter `F` is not optional, we have to explicitly set the value as __None__.\n",
    "\n",
    "Next, we'll define some default parameters for our ThrownObject model."
   ]
  },
  {
   "cell_type": "code",
   "execution_count": null,
   "metadata": {},
   "outputs": [],
   "source": [
    "class ThrownObject(ThrownObject):  # Continue the ThrownObject class\n",
    "    default_parameters = {\n",
    "        'thrower_height': 1.83,\n",
    "        'throwing_speed': 40,\n",
    "    }"
   ]
  },
  {
   "cell_type": "markdown",
   "metadata": {},
   "source": [
    "In the following cells, we'll define some class functions necessary to perform prognostics on the model.\n",
    "\n",
    "The `initialize()` function sets the initial system state. Since we have defined the `x` and `v` values for our ThrownObject model to represent position and velocity in space, our initial values would be the thrower_height and throwing_speed parameters, respectively."
   ]
  },
  {
   "cell_type": "code",
   "execution_count": null,
   "metadata": {},
   "outputs": [],
   "source": [
    "class ThrownObject(ThrownObject):\n",
    "    def initialize(self, u=None, z=None):\n",
    "        return self.StateContainer({\n",
    "            'x': self.parameters['thrower_height'],\n",
    "            'v': self.parameters['throwing_speed']\n",
    "            })"
   ]
  },
  {
   "cell_type": "markdown",
   "metadata": {},
   "source": [
    "For our `threshold_met()`, we define the function to return True for event 'falling' when our thrown object model has a velocity value of less than 0 (object is 'falling') and for event 'impact' when our thrown object has a distance from of the ground of less than or equal to 0 (object is on the ground, or has made 'impact').\n",
    "\n",
    "`threshold_met()` returns a _dict_ of values, if each entry of the _dict_ is __True__, then our threshold has been met!"
   ]
  },
  {
   "cell_type": "code",
   "execution_count": null,
   "metadata": {},
   "outputs": [],
   "source": [
    "class ThrownObject(ThrownObject):\n",
    "    def threshold_met(self, x):\n",
    "        return {\n",
    "            'falling': x['v'] < 0,\n",
    "            'impact': x['x'] <= 0\n",
    "        }"
   ]
  },
  {
   "cell_type": "markdown",
   "metadata": {},
   "source": [
    "Finally, for our `event_state()`, we will calculate the measurement of progress towards the events. We normalize our values such that they are in the range of 0 to 1, where 0 means the event has occurred."
   ]
  },
  {
   "cell_type": "code",
   "execution_count": null,
   "metadata": {},
   "outputs": [],
   "source": [
    "class ThrownObject(ThrownObject):\n",
    "    def event_state(self, x): \n",
    "        x_max = x['x'] + np.square(x['v'])/(9.81*2)\n",
    "        return {\n",
    "            'falling': np.maximum(x['v']/self.parameters['throwing_speed'],0),\n",
    "            'impact': np.maximum(x['x']/x_max,0) if x['v'] < 0 else 1\n",
    "        }"
   ]
  },
  {
   "cell_type": "markdown",
   "metadata": {},
   "source": [
    "With these functions created, we can now use the `simulate_to_threshold()` function to simulate the movement of the thrown object in air. For more information, see 1. Simulation."
   ]
  },
  {
   "cell_type": "code",
   "execution_count": null,
   "metadata": {},
   "outputs": [],
   "source": [
    "m = ThrownObject()\n",
    "save = m.simulate_to_threshold(print=True, save_freq=1, threshold_keys='impact', dt=0.1)"
   ]
  },
  {
   "cell_type": "markdown",
   "metadata": {},
   "source": [
    "__Note__: Because our model takes in no inputs, we have no need to define a future loading function. However, for most models, there would be inputs, and thus a need for a future loading function. For more information on future loading functions and when to use them, please refer to the future loading section in 1. Simulation.\n",
    "\n",
    "Let's take a look at the outputs of this model"
   ]
  },
  {
   "cell_type": "code",
   "execution_count": null,
   "metadata": {},
   "outputs": [],
   "source": [
    "fig = save.outputs.plot(title='generated model')"
   ]
  },
  {
   "cell_type": "markdown",
   "metadata": {},
   "source": [
    "Notice that that plot resembles a parabola, which represents the position of the ball through space as time progresses!"
   ]
  },
  {
   "cell_type": "markdown",
   "metadata": {},
   "source": [
    "For more information on Linear Models, see the [Linear Model](https://nasa.github.io/progpy/api_ref/prog_models/LinearModel.html) Documentation."
   ]
  },
  {
   "cell_type": "markdown",
   "metadata": {},
   "source": [
    "## New State Tranisition Models"
   ]
  },
  {
   "cell_type": "markdown",
   "metadata": {},
   "source": [
    "## Direct Models"
   ]
  },
  {
   "cell_type": "markdown",
   "metadata": {},
   "source": [
    "## Derived Parameters"
   ]
  },
  {
   "cell_type": "markdown",
   "metadata": {},
   "source": [
    "## Matrix Models"
   ]
  },
  {
   "cell_type": "markdown",
   "metadata": {},
   "source": [
    "## State Limits"
   ]
  },
  {
   "cell_type": "markdown",
   "metadata": {},
   "source": [
    "## Custom Events"
   ]
  },
  {
   "cell_type": "markdown",
   "metadata": {},
   "source": [
    "## Serialization "
   ]
  },
  {
   "cell_type": "markdown",
   "metadata": {},
   "source": [
    "ProgPy includes a feature to serialize models, which we highlight in this section. \n",
    "\n",
    "Model serialization has a variety of purposes. For example, serialization allows us to save a specific model to a file to be loaded later, or can aid us in sending a model to another machine over a network connection. In this section, we'll show how to serialize and deserialize model objects using `pickle` and `JSON` methods. "
   ]
  },
  {
   "cell_type": "markdown",
   "metadata": {},
   "source": [
    "First, we'll import the necessary modules."
   ]
  },
  {
   "cell_type": "code",
   "execution_count": null,
   "metadata": {},
   "outputs": [],
   "source": [
    "import matplotlib.pyplot as plt\n",
    "import pickle\n",
    "import numpy as np\n",
    "from progpy.models import BatteryElectroChemEOD"
   ]
  },
  {
   "cell_type": "markdown",
   "metadata": {},
   "source": [
    "For this example, we'll use the BatteryElectroChemEOD model. We'll start by creating a model object. "
   ]
  },
  {
   "cell_type": "code",
   "execution_count": null,
   "metadata": {},
   "outputs": [],
   "source": [
    "batt = BatteryElectroChemEOD()"
   ]
  },
  {
   "cell_type": "markdown",
   "metadata": {},
   "source": [
    "In order to illustrate a perfect match between the original and serialized versions of the model, we'll set both the `process_noise` and `measurement_noise` to 0. "
   ]
  },
  {
   "cell_type": "code",
   "execution_count": null,
   "metadata": {},
   "outputs": [],
   "source": [
    "batt.parameters['process_noise'] = 0\n",
    "batt.parameters['measurement_noise'] = 0"
   ]
  },
  {
   "cell_type": "markdown",
   "metadata": {},
   "source": [
    "First, we'll serialize the model in two different ways using 1) `pickle` and 2) `JSON`. Then, we'll plot the deserialized results to show equivalence of the methods. "
   ]
  },
  {
   "cell_type": "markdown",
   "metadata": {},
   "source": [
    "To save using the `pickle` package, we'll serialize the model using the `dump` method. Once saved, we can then deserialize using the `load` method. In practice, deserializing will likely occur in a different file or in a later use-case, but here we deserialize to show equivalence of the saved model. "
   ]
  },
  {
   "cell_type": "code",
   "execution_count": null,
   "metadata": {},
   "outputs": [],
   "source": [
    "pickle.dump(batt, open('save_pkl.pkl', 'wb')) # Serialize model\n",
    "load_pkl = pickle.load(open('save_pkl.pkl', 'rb')) # Deserialize model "
   ]
  },
  {
   "cell_type": "markdown",
   "metadata": {},
   "source": [
    "Next, we'll serialize using the `to_json` method. We deserialize by calling the model directly with the serialized result using the `from_json` method."
   ]
  },
  {
   "cell_type": "code",
   "execution_count": null,
   "metadata": {},
   "outputs": [],
   "source": [
    "save_json = batt.to_json() # Serialize model\n",
    "json_1 = BatteryElectroChemEOD.from_json(save_json) # Deserialize model"
   ]
  },
  {
   "cell_type": "markdown",
   "metadata": {},
   "source": [
    "Note that the serialized result can also be saved to a text file and uploaded for later use. We demonstrate this below:"
   ]
  },
  {
   "cell_type": "code",
   "execution_count": null,
   "metadata": {},
   "outputs": [],
   "source": [
    "txtFile = open(\"save_json.txt\", \"w\")\n",
    "txtFile.write(save_json)\n",
    "txtFile.close()\n",
    "\n",
    "with open('save_json.txt') as infile: \n",
    "    load_json = infile.read()\n",
    "\n",
    "json_2 = BatteryElectroChemEOD.from_json(load_json)"
   ]
  },
  {
   "cell_type": "markdown",
   "metadata": {},
   "source": [
    "We have now serialized and deserialized the model using `pickle` and `JSON` methods. Let's compare the resulting models. To do so, we'll use ProgPy's [simulation](https://nasa.github.io/progpy/prog_models_guide.html#simulation) to simulate the model to threshold and compare the results. \n",
    "\n",
    "First, we'll need to define our [future loading profile](https://nasa.github.io/progpy/prog_models_guide.html#future-loading)."
   ]
  },
  {
   "cell_type": "code",
   "execution_count": null,
   "metadata": {},
   "outputs": [],
   "source": [
    "def future_loading(t, x=None):\n",
    "    if (t < 600):\n",
    "        i = 3\n",
    "    elif (t < 1000):\n",
    "        i = 2\n",
    "    elif (t < 1500):\n",
    "        i = 1.5\n",
    "    else:\n",
    "        i = 4\n",
    "    return batt.InputContainer({'i': i})"
   ]
  },
  {
   "cell_type": "markdown",
   "metadata": {},
   "source": [
    "Now, let's simulate each model to threshold using the `simulate_to_threshold` method. "
   ]
  },
  {
   "cell_type": "code",
   "execution_count": null,
   "metadata": {},
   "outputs": [],
   "source": [
    "# Original model \n",
    "results_orig = batt.simulate_to_threshold(future_loading, save_freq = 1)\n",
    "# Pickled version  \n",
    "results_pkl = load_pkl.simulate_to_threshold(future_loading, save_freq = 1)\n",
    "# JSON versions\n",
    "results_json_1 = json_1.simulate_to_threshold(future_loading, save_freq = 1)\n",
    "results_json_2 = json_2.simulate_to_threshold(future_loading, save_freq = 1)\n"
   ]
  },
  {
   "cell_type": "markdown",
   "metadata": {},
   "source": [
    "Finally, let's plot the results for comparison."
   ]
  },
  {
   "cell_type": "code",
   "execution_count": null,
   "metadata": {},
   "outputs": [],
   "source": [
    "voltage_orig = [results_orig.outputs[iter]['v'] for iter in range(len(results_orig.times))]\n",
    "voltage_pkl = [results_pkl.outputs[iter]['v'] for iter in range(len(results_pkl.times))]\n",
    "voltage_json_1 = [results_json_1.outputs[iter]['v'] for iter in range(len(results_json_1.times))]\n",
    "voltage_json_2 = [results_json_2.outputs[iter]['v'] for iter in range(len(results_json_2.times))]\n",
    "\n",
    "plt.plot(results_orig.times,voltage_orig,'-b',label='Original surrogate') \n",
    "plt.plot(results_pkl.times,voltage_pkl,'--r',label='Pickled serialized surrogate') \n",
    "plt.plot(results_json_1.times,voltage_json_1,'-.g',label='First JSON serialized surrogate') \n",
    "plt.plot(results_json_2.times, voltage_json_2, '--y', label='Second JSON serialized surrogate')\n",
    "plt.legend()\n",
    "plt.xlabel('Time (sec)')\n",
    "plt.ylabel('Voltage (volts)')"
   ]
  },
  {
   "cell_type": "markdown",
   "metadata": {},
   "source": [
    "All of the voltage curves overlap, showing that the different serialization methods produce the same results. \n",
    "\n",
    "Additionally, we can compare the output arrays directly, to ensure equivalence. "
   ]
  },
  {
   "cell_type": "code",
   "execution_count": null,
   "metadata": {},
   "outputs": [],
   "source": [
    "import numpy as np\n",
    "\n",
    "# Check if the arrays are the same\n",
    "are_arrays_same = np.array_equal(voltage_orig, voltage_pkl) and \\\n",
    "                  np.array_equal(voltage_orig, voltage_json_1) and \\\n",
    "                  np.array_equal(voltage_orig, voltage_json_2)\n",
    "\n",
    "print(f\"The simulated results from the original and serialized models are {'identical. This means that our serialization works!' if are_arrays_same else 'not identical. This means that our serialization does not work.'}!\")"
   ]
  },
  {
   "cell_type": "markdown",
   "metadata": {},
   "source": [
    "To conclude, we have shown how to serialize models in ProgPy using both `pickle` and `JSON` methods. Understanding how to serialize and deserialize models can be a powerful tool for prognostics developers. It enables the saving of models to a disk and the re-loading of these models back into memory at a later time. "
   ]
  },
  {
   "cell_type": "markdown",
   "metadata": {},
   "source": [
    "## Conclusions"
   ]
  }
 ],
 "metadata": {
  "kernelspec": {
   "display_name": "Python 3.11.0 64-bit",
   "language": "python",
   "name": "python3"
  },
  "language_info": {
   "codemirror_mode": {
    "name": "ipython",
    "version": 3
   },
   "file_extension": ".py",
   "mimetype": "text/x-python",
   "name": "python",
   "nbconvert_exporter": "python",
   "pygments_lexer": "ipython3",
   "version": "3.9.6"
  },
  "orig_nbformat": 4,
  "vscode": {
   "interpreter": {
    "hash": "aee8b7b246df8f9039afb4144a1f6fd8d2ca17a180786b69acc140d282b71a49"
   }
  }
 },
 "nbformat": 4,
 "nbformat_minor": 2
}
